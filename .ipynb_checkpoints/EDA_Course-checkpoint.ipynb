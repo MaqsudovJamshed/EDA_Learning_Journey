{
 "cells": [
  {
   "cell_type": "markdown",
   "id": "ee2acfe2-aba2-463e-8d5d-575dbed34427",
   "metadata": {},
   "source": [
    "This is Data Summaries section. \n",
    "\n",
    "1/8 of Codecademy course on EDA with Python\n",
    "\n",
    "## Introduction\n",
    "\n",
    "Performing some initial investigations of the data through **exploratory data analysis (EDA)**\n",
    "to get a better sense of what you will be working with.\n",
    "\n",
    "Basic **summary statistics** and **visualizations** are important components of EDA as they allow us to \n",
    "condense a large amount of information into a small set of numbers or graphics that can be easily \n",
    "interpreted.\n",
    "\n",
    "**Univariate summaries** - explore each variable separately.\n",
    "\n",
    "This is useful for answering questions about each individual feature. Variables can typically be classified as quantitative (i.e., numeric) or categorical (i.e., discrete). Depending on its type, we may want to choose different summary metrics and visuals to use.\n",
    "\n",
    "This is useful for answering questions about each individual feature.\n"
   ]
  },
  {
   "cell_type": "markdown",
   "id": "236314ac-7b53-4b40-a5ae-9179cbfbe260",
   "metadata": {},
   "source": [
    "Here with the **requests library** I am fetching the dataset url to my Jupyter Lab without saving the file to my drive or my desktop."
   ]
  },
  {
   "cell_type": "code",
   "execution_count": 6,
   "id": "6fb71988-e3ed-402a-beec-3ef77cc9d3a1",
   "metadata": {},
   "outputs": [],
   "source": [
    "import requests\n",
    "\n",
    "url = \"https://raw.githubusercontent.com/Codecademy/datasets/master/streeteasy/streeteasy.csv\"  # Replace with the file URL\n",
    "response = requests.get(url)\n",
    "\n",
    "# Save the file in the current working directory\n",
    "with open(\"yourfile.csv\", \"wb\") as f:\n",
    "    f.write(response.content)"
   ]
  },
  {
   "cell_type": "code",
   "execution_count": 8,
   "id": "7683a312-0720-4009-bb99-a33bd3976add",
   "metadata": {},
   "outputs": [
    {
     "name": "stdout",
     "output_type": "stream",
     "text": [
      "/Users/jamshedmaqsudov/Desktop/EDA_Learning_Journey\n"
     ]
    }
   ],
   "source": [
    "import os\n",
    "print(os.getcwd())"
   ]
  },
  {
   "cell_type": "markdown",
   "id": "e8f2e301-1c2d-4502-b085-87d5c9f57b38",
   "metadata": {},
   "source": [
    "### We import the **pandas library** and open our csv file "
   ]
  },
  {
   "cell_type": "code",
   "execution_count": 10,
   "id": "2ba9ead6-479e-47db-a077-f95f9e715e66",
   "metadata": {},
   "outputs": [
    {
     "name": "stdout",
     "output_type": "stream",
     "text": [
      "   rental_id  building_id   rent  bedrooms  bathrooms  size_sqft  \\\n",
      "0       1545     44518357   2550       0.0          1        480   \n",
      "1       2472     94441623  11500       2.0          2       2000   \n",
      "2      10234     87632265   3000       3.0          1       1000   \n",
      "3       2919     76909719   4500       1.0          1        916   \n",
      "4       2790     92953520   4795       1.0          1        975   \n",
      "\n",
      "   min_to_subway  floor  building_age_yrs  no_fee  has_roofdeck  \\\n",
      "0              9    2.0                17       1             1   \n",
      "1              4    1.0                96       0             0   \n",
      "2              4    1.0               106       0             0   \n",
      "3              2   51.0                29       0             1   \n",
      "4              3    8.0                31       0             0   \n",
      "\n",
      "   has_washer_dryer  has_doorman  has_elevator  has_dishwasher  has_patio  \\\n",
      "0                 0            0             1               1          0   \n",
      "1                 0            0             0               0          0   \n",
      "2                 0            0             0               0          0   \n",
      "3                 0            1             1               1          0   \n",
      "4                 0            1             1               1          0   \n",
      "\n",
      "   has_gym       neighborhood            submarket    borough  \n",
      "0        1    Upper East Side  All Upper East Side  Manhattan  \n",
      "1        0  Greenwich Village         All Downtown  Manhattan  \n",
      "2        0            Astoria     Northwest Queens     Queens  \n",
      "3        0            Midtown          All Midtown  Manhattan  \n",
      "4        1  Greenwich Village         All Downtown  Manhattan  \n"
     ]
    }
   ],
   "source": [
    "import pandas as pd\n",
    "\n",
    "# Import dataset\n",
    "rentals = pd.read_csv('yourfile.csv')\n",
    "\n",
    "# Preview first 5 rows\n",
    "print(rentals.head())"
   ]
  },
  {
   "cell_type": "markdown",
   "id": "be3b3b1f-4c17-4214-9b6d-fca2bbaf4b75",
   "metadata": {},
   "source": [
    "#### To work with our dataset as it is indicated in the codecademy lesson we only need these three columns and get them in a new variable"
   ]
  },
  {
   "cell_type": "code",
   "execution_count": 22,
   "id": "c760e649-9b72-4b96-9f09-967493a3ba39",
   "metadata": {},
   "outputs": [
    {
     "data": {
      "text/html": [
       "<div>\n",
       "<style scoped>\n",
       "    .dataframe tbody tr th:only-of-type {\n",
       "        vertical-align: middle;\n",
       "    }\n",
       "\n",
       "    .dataframe tbody tr th {\n",
       "        vertical-align: top;\n",
       "    }\n",
       "\n",
       "    .dataframe thead th {\n",
       "        text-align: right;\n",
       "    }\n",
       "</style>\n",
       "<table border=\"1\" class=\"dataframe\">\n",
       "  <thead>\n",
       "    <tr style=\"text-align: right;\">\n",
       "      <th></th>\n",
       "      <th>rent</th>\n",
       "      <th>size_sqft</th>\n",
       "      <th>borough</th>\n",
       "    </tr>\n",
       "  </thead>\n",
       "  <tbody>\n",
       "    <tr>\n",
       "      <th>0</th>\n",
       "      <td>2550</td>\n",
       "      <td>480</td>\n",
       "      <td>Manhattan</td>\n",
       "    </tr>\n",
       "    <tr>\n",
       "      <th>1</th>\n",
       "      <td>11500</td>\n",
       "      <td>2000</td>\n",
       "      <td>Manhattan</td>\n",
       "    </tr>\n",
       "    <tr>\n",
       "      <th>2</th>\n",
       "      <td>3000</td>\n",
       "      <td>1000</td>\n",
       "      <td>Queens</td>\n",
       "    </tr>\n",
       "    <tr>\n",
       "      <th>3</th>\n",
       "      <td>4500</td>\n",
       "      <td>916</td>\n",
       "      <td>Manhattan</td>\n",
       "    </tr>\n",
       "    <tr>\n",
       "      <th>4</th>\n",
       "      <td>4795</td>\n",
       "      <td>975</td>\n",
       "      <td>Manhattan</td>\n",
       "    </tr>\n",
       "  </tbody>\n",
       "</table>\n",
       "</div>"
      ],
      "text/plain": [
       "    rent  size_sqft    borough\n",
       "0   2550        480  Manhattan\n",
       "1  11500       2000  Manhattan\n",
       "2   3000       1000     Queens\n",
       "3   4500        916  Manhattan\n",
       "4   4795        975  Manhattan"
      ]
     },
     "execution_count": 22,
     "metadata": {},
     "output_type": "execute_result"
    }
   ],
   "source": [
    "rental = rentals[['rent','size_sqft','borough']]\n",
    "rental.head()"
   ]
  },
  {
   "cell_type": "markdown",
   "id": "2774cc46-66c8-49dd-9811-ec44f1b2706a",
   "metadata": {},
   "source": [
    "We display the **summary statistics** for all the columns. \n",
    "\n",
    "In EDA we display it with **describe() method in Pandas** to \n",
    "condense the large amount of information into small set of numbers\n",
    "such as mean, std, min, max and etc..\n",
    "\n",
    "This is a great way to get an **overview** of all the variables in a dataset."
   ]
  },
  {
   "cell_type": "code",
   "execution_count": 24,
   "id": "4d580288-67df-4944-8ded-4ac17bd0e6c5",
   "metadata": {},
   "outputs": [
    {
     "data": {
      "text/html": [
       "<div>\n",
       "<style scoped>\n",
       "    .dataframe tbody tr th:only-of-type {\n",
       "        vertical-align: middle;\n",
       "    }\n",
       "\n",
       "    .dataframe tbody tr th {\n",
       "        vertical-align: top;\n",
       "    }\n",
       "\n",
       "    .dataframe thead th {\n",
       "        text-align: right;\n",
       "    }\n",
       "</style>\n",
       "<table border=\"1\" class=\"dataframe\">\n",
       "  <thead>\n",
       "    <tr style=\"text-align: right;\">\n",
       "      <th></th>\n",
       "      <th>rent</th>\n",
       "      <th>size_sqft</th>\n",
       "      <th>borough</th>\n",
       "    </tr>\n",
       "  </thead>\n",
       "  <tbody>\n",
       "    <tr>\n",
       "      <th>count</th>\n",
       "      <td>5000.000000</td>\n",
       "      <td>5000.000000</td>\n",
       "      <td>5000</td>\n",
       "    </tr>\n",
       "    <tr>\n",
       "      <th>unique</th>\n",
       "      <td>NaN</td>\n",
       "      <td>NaN</td>\n",
       "      <td>3</td>\n",
       "    </tr>\n",
       "    <tr>\n",
       "      <th>top</th>\n",
       "      <td>NaN</td>\n",
       "      <td>NaN</td>\n",
       "      <td>Manhattan</td>\n",
       "    </tr>\n",
       "    <tr>\n",
       "      <th>freq</th>\n",
       "      <td>NaN</td>\n",
       "      <td>NaN</td>\n",
       "      <td>3539</td>\n",
       "    </tr>\n",
       "    <tr>\n",
       "      <th>mean</th>\n",
       "      <td>4536.920800</td>\n",
       "      <td>920.101400</td>\n",
       "      <td>NaN</td>\n",
       "    </tr>\n",
       "    <tr>\n",
       "      <th>std</th>\n",
       "      <td>2929.838953</td>\n",
       "      <td>440.150464</td>\n",
       "      <td>NaN</td>\n",
       "    </tr>\n",
       "    <tr>\n",
       "      <th>min</th>\n",
       "      <td>1250.000000</td>\n",
       "      <td>250.000000</td>\n",
       "      <td>NaN</td>\n",
       "    </tr>\n",
       "    <tr>\n",
       "      <th>25%</th>\n",
       "      <td>2750.000000</td>\n",
       "      <td>633.000000</td>\n",
       "      <td>NaN</td>\n",
       "    </tr>\n",
       "    <tr>\n",
       "      <th>50%</th>\n",
       "      <td>3600.000000</td>\n",
       "      <td>800.000000</td>\n",
       "      <td>NaN</td>\n",
       "    </tr>\n",
       "    <tr>\n",
       "      <th>75%</th>\n",
       "      <td>5200.000000</td>\n",
       "      <td>1094.000000</td>\n",
       "      <td>NaN</td>\n",
       "    </tr>\n",
       "    <tr>\n",
       "      <th>max</th>\n",
       "      <td>20000.000000</td>\n",
       "      <td>4800.000000</td>\n",
       "      <td>NaN</td>\n",
       "    </tr>\n",
       "  </tbody>\n",
       "</table>\n",
       "</div>"
      ],
      "text/plain": [
       "                rent    size_sqft    borough\n",
       "count    5000.000000  5000.000000       5000\n",
       "unique           NaN          NaN          3\n",
       "top              NaN          NaN  Manhattan\n",
       "freq             NaN          NaN       3539\n",
       "mean     4536.920800   920.101400        NaN\n",
       "std      2929.838953   440.150464        NaN\n",
       "min      1250.000000   250.000000        NaN\n",
       "25%      2750.000000   633.000000        NaN\n",
       "50%      3600.000000   800.000000        NaN\n",
       "75%      5200.000000  1094.000000        NaN\n",
       "max     20000.000000  4800.000000        NaN"
      ]
     },
     "execution_count": 24,
     "metadata": {},
     "output_type": "execute_result"
    }
   ],
   "source": [
    "# Display summary statistics for all columns\n",
    "\n",
    "rental.describe(include='all')"
   ]
  },
  {
   "cell_type": "markdown",
   "id": "9c89f616-859c-498a-aade-cb0a6ff15ae0",
   "metadata": {},
   "source": [
    "#### Continue tomorrow: 16.12.2024"
   ]
  },
  {
   "cell_type": "markdown",
   "id": "991a0059-5b8a-4479-b1e3-fd6042764d09",
   "metadata": {},
   "source": [
    "# Boxplot\n",
    "\n",
    "In this below plot I would like to explore more our data through the boxplot and we drive from that conclusion"
   ]
  },
  {
   "cell_type": "markdown",
   "id": "7d95fa64-9090-4cbb-8d7a-acbc72b09714",
   "metadata": {},
   "source": []
  },
  {
   "cell_type": "code",
   "execution_count": 25,
   "id": "4501f20d-fef8-4643-bd83-b2d13737457c",
   "metadata": {},
   "outputs": [
    {
     "data": {
      "image/png": "[encoded data removed]",
      "text/plain": [
       "<IPython.core.display.Image object>"
      ]
     },
     "metadata": {
      "image/png": {
       "height": 300,
       "width": 500
      }
     },
     "output_type": "display_data"
    }
   ],
   "source": [
    "from IPython.display import Image, display\n",
    "\n",
    "# Display the image from the full path\n",
    "display(Image(filename='/Users/jamshedmaqsudov/Desktop/EDA_Learning_Journey/boxplot_rent_rentals.png', width=500, height=300))"
   ]
  },
  {
   "cell_type": "markdown",
   "id": "dd87df98-e11a-4957-a863-13a4d32b5021",
   "metadata": {},
   "source": [
    "\n",
    "- Both plots show that the distribution of movie budgets is skewed to the right, with some outlier movies having extremely high budgets. This is consistent with the high mean budget value we saw earlier, since the mean is affected by skewness and outliers."
   ]
  },
  {
   "cell_type": "markdown",
   "id": "e04ac30c-f644-4fb6-bc8a-2783585280c1",
   "metadata": {},
   "source": [
    "## MAKE A RESEARCH AND BETTER UNDERSTAND ?\n"
   ]
  },
  {
   "cell_type": "code",
   "execution_count": 27,
   "id": "fd59576c-ae0a-489c-a1cc-6829bd14c169",
   "metadata": {},
   "outputs": [
    {
     "data": {
      "image/png": "[encoded data removed]",
      "text/plain": [
       "<IPython.core.display.Image object>"
      ]
     },
     "metadata": {
      "image/png": {
       "height": 300,
       "width": 500
      }
     },
     "output_type": "display_data"
    }
   ],
   "source": [
    "display(Image(filename='/Users/jamshedmaqsudov/Desktop/EDA_Learning_Journey/boxplot_productionbudget_movies.png', width=500, height=300))"
   ]
  },
  {
   "cell_type": "code",
   "execution_count": 42,
   "id": "35244d0b-9e5e-467b-8c7c-2f4529f92fb7",
   "metadata": {},
   "outputs": [
    {
     "data": {
      "image/png": "[encoded data removed]",
      "text/plain": [
       "<IPython.core.display.Image object>"
      ]
     },
     "metadata": {
      "image/png": {
       "height": 300,
       "width": 500
      }
     },
     "output_type": "display_data"
    }
   ],
   "source": [
    "display(Image(filename='/Users/jamshedmaqsudov/Desktop/EDA_Learning_Journey/hist_rent.png', width=500, height=300))"
   ]
  },
  {
   "cell_type": "code",
   "execution_count": 46,
   "id": "aec7e8d6-effe-4588-9486-f0c2b6ddfbeb",
   "metadata": {},
   "outputs": [
    {
     "data": {
      "image/png": "[encoded data removed]",
      "text/plain": [
       "<IPython.core.display.Image object>"
      ]
     },
     "metadata": {
      "image/png": {
       "height": 300,
       "width": 500
      }
     },
     "output_type": "display_data"
    }
   ],
   "source": [
    "display(Image(filename='/Users/jamshedmaqsudov/Desktop/EDA_Learning_Journey/hist_movies.png', width=500, height=300))"
   ]
  },
  {
   "cell_type": "markdown",
   "id": "09f7051e-5d29-44d3-b522-d9b391e9b3c0",
   "metadata": {},
   "source": [
    "## SUMMARY\n",
    "### In this lesson, you’ve learned about the common ways to summarize and visualize quantitative and categorical variable for the purpose of EDA.\n",
    "\n",
    "- We can use .describe **(include='all')** to quickly display common summary statistics for all columns in a pandas DataFrame.\n",
    "- For quantitative variables, measures of central tendency (e.g., mean, median, mode) and spread (e.g., range, variance, standard deviation) are good ways to summarize the data.\n",
    "- **Boxplots** and **histograms** are often used for visualization.\n",
    "- For categorical variables, the relative frequencies of each category can be summarized using a table of counts or proportions. Bar charts and pie charts are often used for visualization.\n",
    "  \n",
    "### Being able to use the appropriate metrics and visuals to explore the variables in your dataset can help you to draw insights from your data and prepare for more rigorous analysis and modeling down the road."
   ]
  },
  {
   "cell_type": "markdown",
   "id": "27e3fbeb-4a44-4b37-9aab-93cc97980930",
   "metadata": {},
   "source": [
    "##  New Project\n",
    "\n",
    "NAME : Student Performance"
   ]
  },
  {
   "cell_type": "code",
   "execution_count": 7,
   "id": "fd819ee6-fe9f-4ab5-952b-42b49f0e505a",
   "metadata": {},
   "outputs": [],
   "source": [
    " # Load libraries\n",
    "import pandas as pd\n",
    "import numpy as np\n",
    "import matplotlib.pyplot as plt\n",
    "import seaborn as sns\n",
    "\n",
    "# Import data\n",
    "students = pd.read_csv('studentmath.csv', delimiter=';')"
   ]
  },
  {
   "cell_type": "code",
   "execution_count": 9,
   "id": "f00945e1-cf4e-4b99-8590-c275dd70b09a",
   "metadata": {},
   "outputs": [
    {
     "data": {
      "text/html": [
       "<div>\n",
       "<style scoped>\n",
       "    .dataframe tbody tr th:only-of-type {\n",
       "        vertical-align: middle;\n",
       "    }\n",
       "\n",
       "    .dataframe tbody tr th {\n",
       "        vertical-align: top;\n",
       "    }\n",
       "\n",
       "    .dataframe thead th {\n",
       "        text-align: right;\n",
       "    }\n",
       "</style>\n",
       "<table border=\"1\" class=\"dataframe\">\n",
       "  <thead>\n",
       "    <tr style=\"text-align: right;\">\n",
       "      <th></th>\n",
       "      <th>school</th>\n",
       "      <th>sex</th>\n",
       "      <th>age</th>\n",
       "      <th>address</th>\n",
       "      <th>famsize</th>\n",
       "      <th>Pstatus</th>\n",
       "      <th>Medu</th>\n",
       "      <th>Fedu</th>\n",
       "      <th>Mjob</th>\n",
       "      <th>Fjob</th>\n",
       "      <th>...</th>\n",
       "      <th>famrel</th>\n",
       "      <th>freetime</th>\n",
       "      <th>goout</th>\n",
       "      <th>Dalc</th>\n",
       "      <th>Walc</th>\n",
       "      <th>health</th>\n",
       "      <th>absences</th>\n",
       "      <th>G1</th>\n",
       "      <th>G2</th>\n",
       "      <th>G3</th>\n",
       "    </tr>\n",
       "  </thead>\n",
       "  <tbody>\n",
       "    <tr>\n",
       "      <th>0</th>\n",
       "      <td>GP</td>\n",
       "      <td>F</td>\n",
       "      <td>18</td>\n",
       "      <td>U</td>\n",
       "      <td>GT3</td>\n",
       "      <td>A</td>\n",
       "      <td>4</td>\n",
       "      <td>4</td>\n",
       "      <td>at_home</td>\n",
       "      <td>teacher</td>\n",
       "      <td>...</td>\n",
       "      <td>4</td>\n",
       "      <td>3</td>\n",
       "      <td>4</td>\n",
       "      <td>1</td>\n",
       "      <td>1</td>\n",
       "      <td>3</td>\n",
       "      <td>6</td>\n",
       "      <td>5</td>\n",
       "      <td>6</td>\n",
       "      <td>6</td>\n",
       "    </tr>\n",
       "    <tr>\n",
       "      <th>1</th>\n",
       "      <td>GP</td>\n",
       "      <td>F</td>\n",
       "      <td>17</td>\n",
       "      <td>U</td>\n",
       "      <td>GT3</td>\n",
       "      <td>T</td>\n",
       "      <td>1</td>\n",
       "      <td>1</td>\n",
       "      <td>at_home</td>\n",
       "      <td>other</td>\n",
       "      <td>...</td>\n",
       "      <td>5</td>\n",
       "      <td>3</td>\n",
       "      <td>3</td>\n",
       "      <td>1</td>\n",
       "      <td>1</td>\n",
       "      <td>3</td>\n",
       "      <td>4</td>\n",
       "      <td>5</td>\n",
       "      <td>5</td>\n",
       "      <td>6</td>\n",
       "    </tr>\n",
       "    <tr>\n",
       "      <th>2</th>\n",
       "      <td>GP</td>\n",
       "      <td>F</td>\n",
       "      <td>15</td>\n",
       "      <td>U</td>\n",
       "      <td>LE3</td>\n",
       "      <td>T</td>\n",
       "      <td>1</td>\n",
       "      <td>1</td>\n",
       "      <td>at_home</td>\n",
       "      <td>other</td>\n",
       "      <td>...</td>\n",
       "      <td>4</td>\n",
       "      <td>3</td>\n",
       "      <td>2</td>\n",
       "      <td>2</td>\n",
       "      <td>3</td>\n",
       "      <td>3</td>\n",
       "      <td>10</td>\n",
       "      <td>7</td>\n",
       "      <td>8</td>\n",
       "      <td>10</td>\n",
       "    </tr>\n",
       "    <tr>\n",
       "      <th>3</th>\n",
       "      <td>GP</td>\n",
       "      <td>F</td>\n",
       "      <td>15</td>\n",
       "      <td>U</td>\n",
       "      <td>GT3</td>\n",
       "      <td>T</td>\n",
       "      <td>4</td>\n",
       "      <td>2</td>\n",
       "      <td>health</td>\n",
       "      <td>services</td>\n",
       "      <td>...</td>\n",
       "      <td>3</td>\n",
       "      <td>2</td>\n",
       "      <td>2</td>\n",
       "      <td>1</td>\n",
       "      <td>1</td>\n",
       "      <td>5</td>\n",
       "      <td>2</td>\n",
       "      <td>15</td>\n",
       "      <td>14</td>\n",
       "      <td>15</td>\n",
       "    </tr>\n",
       "    <tr>\n",
       "      <th>4</th>\n",
       "      <td>GP</td>\n",
       "      <td>F</td>\n",
       "      <td>16</td>\n",
       "      <td>U</td>\n",
       "      <td>GT3</td>\n",
       "      <td>T</td>\n",
       "      <td>3</td>\n",
       "      <td>3</td>\n",
       "      <td>other</td>\n",
       "      <td>other</td>\n",
       "      <td>...</td>\n",
       "      <td>4</td>\n",
       "      <td>3</td>\n",
       "      <td>2</td>\n",
       "      <td>1</td>\n",
       "      <td>2</td>\n",
       "      <td>5</td>\n",
       "      <td>4</td>\n",
       "      <td>6</td>\n",
       "      <td>10</td>\n",
       "      <td>10</td>\n",
       "    </tr>\n",
       "  </tbody>\n",
       "</table>\n",
       "<p>5 rows × 33 columns</p>\n",
       "</div>"
      ],
      "text/plain": [
       "  school sex  age address famsize Pstatus  Medu  Fedu     Mjob      Fjob  ...  \\\n",
       "0     GP   F   18       U     GT3       A     4     4  at_home   teacher  ...   \n",
       "1     GP   F   17       U     GT3       T     1     1  at_home     other  ...   \n",
       "2     GP   F   15       U     LE3       T     1     1  at_home     other  ...   \n",
       "3     GP   F   15       U     GT3       T     4     2   health  services  ...   \n",
       "4     GP   F   16       U     GT3       T     3     3    other     other  ...   \n",
       "\n",
       "  famrel freetime  goout  Dalc  Walc health absences  G1  G2  G3  \n",
       "0      4        3      4     1     1      3        6   5   6   6  \n",
       "1      5        3      3     1     1      3        4   5   5   6  \n",
       "2      4        3      2     2     3      3       10   7   8  10  \n",
       "3      3        2      2     1     1      5        2  15  14  15  \n",
       "4      4        3      2     1     2      5        4   6  10  10  \n",
       "\n",
       "[5 rows x 33 columns]"
      ]
     },
     "execution_count": 9,
     "metadata": {},
     "output_type": "execute_result"
    }
   ],
   "source": [
    "students.head()"
   ]
  },
  {
   "cell_type": "code",
   "execution_count": 11,
   "id": "629bcc56-08ce-4329-979f-2aa815eec94e",
   "metadata": {},
   "outputs": [
    {
     "data": {
      "text/html": [
       "<div>\n",
       "<style scoped>\n",
       "    .dataframe tbody tr th:only-of-type {\n",
       "        vertical-align: middle;\n",
       "    }\n",
       "\n",
       "    .dataframe tbody tr th {\n",
       "        vertical-align: top;\n",
       "    }\n",
       "\n",
       "    .dataframe thead th {\n",
       "        text-align: right;\n",
       "    }\n",
       "</style>\n",
       "<table border=\"1\" class=\"dataframe\">\n",
       "  <thead>\n",
       "    <tr style=\"text-align: right;\">\n",
       "      <th></th>\n",
       "      <th>address</th>\n",
       "      <th>absences</th>\n",
       "      <th>Mjob</th>\n",
       "      <th>Fjob</th>\n",
       "      <th>G3</th>\n",
       "    </tr>\n",
       "  </thead>\n",
       "  <tbody>\n",
       "    <tr>\n",
       "      <th>0</th>\n",
       "      <td>U</td>\n",
       "      <td>6</td>\n",
       "      <td>at_home</td>\n",
       "      <td>teacher</td>\n",
       "      <td>6</td>\n",
       "    </tr>\n",
       "    <tr>\n",
       "      <th>1</th>\n",
       "      <td>U</td>\n",
       "      <td>4</td>\n",
       "      <td>at_home</td>\n",
       "      <td>other</td>\n",
       "      <td>6</td>\n",
       "    </tr>\n",
       "    <tr>\n",
       "      <th>2</th>\n",
       "      <td>U</td>\n",
       "      <td>10</td>\n",
       "      <td>at_home</td>\n",
       "      <td>other</td>\n",
       "      <td>10</td>\n",
       "    </tr>\n",
       "    <tr>\n",
       "      <th>3</th>\n",
       "      <td>U</td>\n",
       "      <td>2</td>\n",
       "      <td>health</td>\n",
       "      <td>services</td>\n",
       "      <td>15</td>\n",
       "    </tr>\n",
       "    <tr>\n",
       "      <th>4</th>\n",
       "      <td>U</td>\n",
       "      <td>4</td>\n",
       "      <td>other</td>\n",
       "      <td>other</td>\n",
       "      <td>10</td>\n",
       "    </tr>\n",
       "  </tbody>\n",
       "</table>\n",
       "</div>"
      ],
      "text/plain": [
       "  address  absences     Mjob      Fjob  G3\n",
       "0       U         6  at_home   teacher   6\n",
       "1       U         4  at_home     other   6\n",
       "2       U        10  at_home     other  10\n",
       "3       U         2   health  services  15\n",
       "4       U         4    other     other  10"
      ]
     },
     "execution_count": 11,
     "metadata": {},
     "output_type": "execute_result"
    }
   ],
   "source": [
    "students_1 = students[['address', 'absences', 'Mjob','Fjob', 'G3']]\n",
    "students_1.head()"
   ]
  },
  {
   "cell_type": "code",
   "execution_count": 13,
   "id": "67cb8bd6-d0c5-4c1d-ae15-8ef1bd3d0d23",
   "metadata": {},
   "outputs": [
    {
     "name": "stderr",
     "output_type": "stream",
     "text": [
      "/var/folders/46/fvkj_w055_x43knr3qr4xhzw0000gn/T/ipykernel_1436/3901582928.py:1: SettingWithCopyWarning: \n",
      "A value is trying to be set on a copy of a slice from a DataFrame\n",
      "\n",
      "See the caveats in the documentation: https://pandas.pydata.org/pandas-docs/stable/user_guide/indexing.html#returning-a-view-versus-a-copy\n",
      "  students_1.rename(columns={'G3': 'math_grade'}, inplace=True)\n"
     ]
    }
   ],
   "source": [
    "students_1.rename(columns={'G3': 'math_grade'}, inplace=True)"
   ]
  },
  {
   "cell_type": "code",
   "execution_count": 19,
   "id": "1ccd8472-0636-438a-b419-78f346b2eab4",
   "metadata": {},
   "outputs": [
    {
     "data": {
      "text/html": [
       "<div>\n",
       "<style scoped>\n",
       "    .dataframe tbody tr th:only-of-type {\n",
       "        vertical-align: middle;\n",
       "    }\n",
       "\n",
       "    .dataframe tbody tr th {\n",
       "        vertical-align: top;\n",
       "    }\n",
       "\n",
       "    .dataframe thead th {\n",
       "        text-align: right;\n",
       "    }\n",
       "</style>\n",
       "<table border=\"1\" class=\"dataframe\">\n",
       "  <thead>\n",
       "    <tr style=\"text-align: right;\">\n",
       "      <th></th>\n",
       "      <th>address</th>\n",
       "      <th>absences</th>\n",
       "      <th>Mjob</th>\n",
       "      <th>Fjob</th>\n",
       "      <th>math_grade</th>\n",
       "    </tr>\n",
       "  </thead>\n",
       "  <tbody>\n",
       "    <tr>\n",
       "      <th>0</th>\n",
       "      <td>U</td>\n",
       "      <td>6</td>\n",
       "      <td>at_home</td>\n",
       "      <td>teacher</td>\n",
       "      <td>6</td>\n",
       "    </tr>\n",
       "    <tr>\n",
       "      <th>1</th>\n",
       "      <td>U</td>\n",
       "      <td>4</td>\n",
       "      <td>at_home</td>\n",
       "      <td>other</td>\n",
       "      <td>6</td>\n",
       "    </tr>\n",
       "    <tr>\n",
       "      <th>2</th>\n",
       "      <td>U</td>\n",
       "      <td>10</td>\n",
       "      <td>at_home</td>\n",
       "      <td>other</td>\n",
       "      <td>10</td>\n",
       "    </tr>\n",
       "    <tr>\n",
       "      <th>3</th>\n",
       "      <td>U</td>\n",
       "      <td>2</td>\n",
       "      <td>health</td>\n",
       "      <td>services</td>\n",
       "      <td>15</td>\n",
       "    </tr>\n",
       "    <tr>\n",
       "      <th>4</th>\n",
       "      <td>U</td>\n",
       "      <td>4</td>\n",
       "      <td>other</td>\n",
       "      <td>other</td>\n",
       "      <td>10</td>\n",
       "    </tr>\n",
       "  </tbody>\n",
       "</table>\n",
       "</div>"
      ],
      "text/plain": [
       "  address  absences     Mjob      Fjob  math_grade\n",
       "0       U         6  at_home   teacher           6\n",
       "1       U         4  at_home     other           6\n",
       "2       U        10  at_home     other          10\n",
       "3       U         2   health  services          15\n",
       "4       U         4    other     other          10"
      ]
     },
     "execution_count": 19,
     "metadata": {},
     "output_type": "execute_result"
    }
   ],
   "source": [
    "students_1.head()"
   ]
  },
  {
   "cell_type": "code",
   "execution_count": 45,
   "id": "055c6b89-d36c-4eac-b8a6-ccae21bef9b0",
   "metadata": {},
   "outputs": [
    {
     "data": {
      "text/html": [
       "<div>\n",
       "<style scoped>\n",
       "    .dataframe tbody tr th:only-of-type {\n",
       "        vertical-align: middle;\n",
       "    }\n",
       "\n",
       "    .dataframe tbody tr th {\n",
       "        vertical-align: top;\n",
       "    }\n",
       "\n",
       "    .dataframe thead th {\n",
       "        text-align: right;\n",
       "    }\n",
       "</style>\n",
       "<table border=\"1\" class=\"dataframe\">\n",
       "  <thead>\n",
       "    <tr style=\"text-align: right;\">\n",
       "      <th></th>\n",
       "      <th>address</th>\n",
       "      <th>absences</th>\n",
       "      <th>Mjob</th>\n",
       "      <th>Fjob</th>\n",
       "      <th>math_grade</th>\n",
       "    </tr>\n",
       "  </thead>\n",
       "  <tbody>\n",
       "    <tr>\n",
       "      <th>count</th>\n",
       "      <td>395</td>\n",
       "      <td>395.000000</td>\n",
       "      <td>395</td>\n",
       "      <td>395</td>\n",
       "      <td>395.000000</td>\n",
       "    </tr>\n",
       "    <tr>\n",
       "      <th>unique</th>\n",
       "      <td>2</td>\n",
       "      <td>NaN</td>\n",
       "      <td>5</td>\n",
       "      <td>5</td>\n",
       "      <td>NaN</td>\n",
       "    </tr>\n",
       "    <tr>\n",
       "      <th>top</th>\n",
       "      <td>U</td>\n",
       "      <td>NaN</td>\n",
       "      <td>other</td>\n",
       "      <td>other</td>\n",
       "      <td>NaN</td>\n",
       "    </tr>\n",
       "    <tr>\n",
       "      <th>freq</th>\n",
       "      <td>307</td>\n",
       "      <td>NaN</td>\n",
       "      <td>141</td>\n",
       "      <td>217</td>\n",
       "      <td>NaN</td>\n",
       "    </tr>\n",
       "    <tr>\n",
       "      <th>mean</th>\n",
       "      <td>NaN</td>\n",
       "      <td>5.708861</td>\n",
       "      <td>NaN</td>\n",
       "      <td>NaN</td>\n",
       "      <td>10.415190</td>\n",
       "    </tr>\n",
       "    <tr>\n",
       "      <th>std</th>\n",
       "      <td>NaN</td>\n",
       "      <td>8.003096</td>\n",
       "      <td>NaN</td>\n",
       "      <td>NaN</td>\n",
       "      <td>4.581443</td>\n",
       "    </tr>\n",
       "    <tr>\n",
       "      <th>min</th>\n",
       "      <td>NaN</td>\n",
       "      <td>0.000000</td>\n",
       "      <td>NaN</td>\n",
       "      <td>NaN</td>\n",
       "      <td>0.000000</td>\n",
       "    </tr>\n",
       "    <tr>\n",
       "      <th>25%</th>\n",
       "      <td>NaN</td>\n",
       "      <td>0.000000</td>\n",
       "      <td>NaN</td>\n",
       "      <td>NaN</td>\n",
       "      <td>8.000000</td>\n",
       "    </tr>\n",
       "    <tr>\n",
       "      <th>50%</th>\n",
       "      <td>NaN</td>\n",
       "      <td>4.000000</td>\n",
       "      <td>NaN</td>\n",
       "      <td>NaN</td>\n",
       "      <td>11.000000</td>\n",
       "    </tr>\n",
       "    <tr>\n",
       "      <th>75%</th>\n",
       "      <td>NaN</td>\n",
       "      <td>8.000000</td>\n",
       "      <td>NaN</td>\n",
       "      <td>NaN</td>\n",
       "      <td>14.000000</td>\n",
       "    </tr>\n",
       "    <tr>\n",
       "      <th>max</th>\n",
       "      <td>NaN</td>\n",
       "      <td>75.000000</td>\n",
       "      <td>NaN</td>\n",
       "      <td>NaN</td>\n",
       "      <td>20.000000</td>\n",
       "    </tr>\n",
       "  </tbody>\n",
       "</table>\n",
       "</div>"
      ],
      "text/plain": [
       "       address    absences   Mjob   Fjob  math_grade\n",
       "count      395  395.000000    395    395  395.000000\n",
       "unique       2         NaN      5      5         NaN\n",
       "top          U         NaN  other  other         NaN\n",
       "freq       307         NaN    141    217         NaN\n",
       "mean       NaN    5.708861    NaN    NaN   10.415190\n",
       "std        NaN    8.003096    NaN    NaN    4.581443\n",
       "min        NaN    0.000000    NaN    NaN    0.000000\n",
       "25%        NaN    0.000000    NaN    NaN    8.000000\n",
       "50%        NaN    4.000000    NaN    NaN   11.000000\n",
       "75%        NaN    8.000000    NaN    NaN   14.000000\n",
       "max        NaN   75.000000    NaN    NaN   20.000000"
      ]
     },
     "execution_count": 45,
     "metadata": {},
     "output_type": "execute_result"
    }
   ],
   "source": [
    "students_1.describe(include= \"all\")"
   ]
  },
  {
   "cell_type": "code",
   "execution_count": 25,
   "id": "3f01b9fd-c1e3-48cf-890d-00587c8ba277",
   "metadata": {},
   "outputs": [
    {
     "data": {
      "text/plain": [
       "10.415189873417722"
      ]
     },
     "execution_count": 25,
     "metadata": {},
     "output_type": "execute_result"
    }
   ],
   "source": [
    "students_1.math_grade.mean()"
   ]
  },
  {
   "cell_type": "code",
   "execution_count": 31,
   "id": "5ef1476a-db62-49b2-8c6b-ef510804a073",
   "metadata": {},
   "outputs": [
    {
     "data": {
      "text/plain": [
       "11.0"
      ]
     },
     "execution_count": 31,
     "metadata": {},
     "output_type": "execute_result"
    }
   ],
   "source": [
    "students_1.math_grade.median()"
   ]
  },
  {
   "cell_type": "code",
   "execution_count": 39,
   "id": "59a0568d-fa22-4d9a-ac03-fc1424b95ed4",
   "metadata": {},
   "outputs": [
    {
     "data": {
      "text/plain": [
       "10"
      ]
     },
     "execution_count": 39,
     "metadata": {},
     "output_type": "execute_result"
    }
   ],
   "source": [
    "students_1.math_grade.mode()[0]"
   ]
  },
  {
   "cell_type": "code",
   "execution_count": 57,
   "id": "7c9ebb3c-2d6e-49be-b7ef-01bde8343d51",
   "metadata": {},
   "outputs": [
    {
     "data": {
      "text/plain": [
       "20"
      ]
     },
     "execution_count": 57,
     "metadata": {},
     "output_type": "execute_result"
    }
   ],
   "source": [
    "students_1.math_grade.max()- students_1.math_grade.min()"
   ]
  },
  {
   "cell_type": "markdown",
   "id": "91edc04c-825d-457d-bacc-30bc2728aa59",
   "metadata": {},
   "source": [
    "The standard deviation is about 4.6, while the average grade is about 10.4. \n",
    "\n",
    "- This means that about two thirds of students are earning a grade between 5.8 (calculated as 10.4 - 4.6) and 15 (calculated as 10.4 + 4.6)."
   ]
  },
  {
   "cell_type": "code",
   "execution_count": 59,
   "id": "f8cb03dc-1f10-4bb3-bed6-9f9b4dc517bf",
   "metadata": {},
   "outputs": [
    {
     "data": {
      "text/plain": [
       "4.5814426109978434"
      ]
     },
     "execution_count": 59,
     "metadata": {},
     "output_type": "execute_result"
    }
   ],
   "source": [
    "students_1.math_grade.std()"
   ]
  },
  {
   "cell_type": "code",
   "execution_count": 66,
   "id": "70bfe316-1bbb-42a3-9231-62fcfff2323b",
   "metadata": {},
   "outputs": [
    {
     "data": {
      "text/html": [
       "<div>\n",
       "<style scoped>\n",
       "    .dataframe tbody tr th:only-of-type {\n",
       "        vertical-align: middle;\n",
       "    }\n",
       "\n",
       "    .dataframe tbody tr th {\n",
       "        vertical-align: top;\n",
       "    }\n",
       "\n",
       "    .dataframe thead th {\n",
       "        text-align: right;\n",
       "    }\n",
       "</style>\n",
       "<table border=\"1\" class=\"dataframe\">\n",
       "  <thead>\n",
       "    <tr style=\"text-align: right;\">\n",
       "      <th></th>\n",
       "      <th>address</th>\n",
       "      <th>absences</th>\n",
       "      <th>Mjob</th>\n",
       "      <th>Fjob</th>\n",
       "      <th>math_grade</th>\n",
       "    </tr>\n",
       "  </thead>\n",
       "  <tbody>\n",
       "    <tr>\n",
       "      <th>0</th>\n",
       "      <td>U</td>\n",
       "      <td>6</td>\n",
       "      <td>at_home</td>\n",
       "      <td>teacher</td>\n",
       "      <td>6</td>\n",
       "    </tr>\n",
       "    <tr>\n",
       "      <th>1</th>\n",
       "      <td>U</td>\n",
       "      <td>4</td>\n",
       "      <td>at_home</td>\n",
       "      <td>other</td>\n",
       "      <td>6</td>\n",
       "    </tr>\n",
       "    <tr>\n",
       "      <th>2</th>\n",
       "      <td>U</td>\n",
       "      <td>10</td>\n",
       "      <td>at_home</td>\n",
       "      <td>other</td>\n",
       "      <td>10</td>\n",
       "    </tr>\n",
       "    <tr>\n",
       "      <th>3</th>\n",
       "      <td>U</td>\n",
       "      <td>2</td>\n",
       "      <td>health</td>\n",
       "      <td>services</td>\n",
       "      <td>15</td>\n",
       "    </tr>\n",
       "    <tr>\n",
       "      <th>4</th>\n",
       "      <td>U</td>\n",
       "      <td>4</td>\n",
       "      <td>other</td>\n",
       "      <td>other</td>\n",
       "      <td>10</td>\n",
       "    </tr>\n",
       "  </tbody>\n",
       "</table>\n",
       "</div>"
      ],
      "text/plain": [
       "  address  absences     Mjob      Fjob  math_grade\n",
       "0       U         6  at_home   teacher           6\n",
       "1       U         4  at_home     other           6\n",
       "2       U        10  at_home     other          10\n",
       "3       U         2   health  services          15\n",
       "4       U         4    other     other          10"
      ]
     },
     "execution_count": 66,
     "metadata": {},
     "output_type": "execute_result"
    }
   ],
   "source": [
    "students_1.head()"
   ]
  },
  {
   "cell_type": "code",
   "execution_count": 78,
   "id": "5e96d6c1-5288-4237-932c-cdf37be452d0",
   "metadata": {},
   "outputs": [
    {
     "name": "stdout",
     "output_type": "stream",
     "text": [
      "3.4289889440794745\n"
     ]
    }
   ],
   "source": [
    "import numpy as np\n",
    "\n",
    "# Calculate MAD using NumPy\n",
    "mad_value = np.mean(np.abs(students_1['math_grade'] - np.mean(students_1['math_grade'])))\n",
    "\n",
    "print(mad_value)"
   ]
  },
  {
   "cell_type": "code",
   "execution_count": 80,
   "id": "a33816fc-2784-4451-bb2f-bc5e71ab307b",
   "metadata": {},
   "outputs": [
    {
     "data": {
      "image/png": "[encoded data removed]",
      "text/plain": [
       "<Figure size 640x480 with 1 Axes>"
      ]
     },
     "metadata": {},
     "output_type": "display_data"
    },
    {
     "data": {
      "text/plain": [
       "<Figure size 640x480 with 0 Axes>"
      ]
     },
     "metadata": {},
     "output_type": "display_data"
    }
   ],
   "source": [
    "sns.histplot( x = 'math_grade', data=students_1)\n",
    "plt.show()\n",
    "plt.clf()"
   ]
  },
  {
   "cell_type": "markdown",
   "id": "53a1c5eb-26ab-46a3-a2f1-6ed65a470baa",
   "metadata": {},
   "source": [
    "### SUMMARY \n",
    "#### Observations:\n",
    "\n",
    "- The tallest bar corresponds to grades between 10 and 12.5, meaning most students scored within this range (close to 80 students).\n",
    "- Another large group is in the range of 12.5 to 15, indicating that students generally performed well.\n",
    "- There is a noticeable number of students scoring 0 to 2.5 (close to 40).\n",
    "- Few students achieved very low (2.5 to 7.5) or very high (17.5 to 20) grades.\n",
    "## Insights:\n",
    "\n",
    "The distribution appears slightly skewed, with a concentration of students in the middle to higher grade ranges.\n",
    "There's a cluster of students scoring poorly, reflected in the bar at 0-2.5.\n"
   ]
  },
  {
   "cell_type": "code",
   "execution_count": 82,
   "id": "87d1de9c-6016-4235-b1c5-444cc0667e3c",
   "metadata": {},
   "outputs": [
    {
     "data": {
      "image/png": "[encoded data removed]",
      "text/plain": [
       "<Figure size 640x480 with 1 Axes>"
      ]
     },
     "metadata": {},
     "output_type": "display_data"
    },
    {
     "data": {
      "text/plain": [
       "<Figure size 640x480 with 0 Axes>"
      ]
     },
     "metadata": {},
     "output_type": "display_data"
    }
   ],
   "source": [
    "sns.boxplot(x='math_grade', data=students_1)\n",
    "plt.show()\n",
    "plt.clf()"
   ]
  },
  {
   "cell_type": "markdown",
   "id": "35b6f115-a641-4cf6-b155-ad1e056a2a39",
   "metadata": {},
   "source": [
    "## SUMMARY\n",
    "\n",
    "### Insights:\n",
    "\n",
    "- The **median** appears closer to the upper end of the box, suggesting a slight skew in the data.\n",
    "- The grades are distributed fairly evenly between **0 and 20**, with no extreme outliers.\n",
    "- The range (distance from the bottom whisker to the top whisker) indicates variability in grades."
   ]
  },
  {
   "cell_type": "code",
   "execution_count": 90,
   "id": "68e08b6b-0451-4df0-9058-ea56567cd462",
   "metadata": {},
   "outputs": [
    {
     "data": {
      "text/plain": [
       "Mjob\n",
       "other       141\n",
       "services    103\n",
       "at_home      59\n",
       "teacher      58\n",
       "health       34\n",
       "Name: count, dtype: int64"
      ]
     },
     "execution_count": 90,
     "metadata": {},
     "output_type": "execute_result"
    }
   ],
   "source": [
    "students_1.Mjob.value_counts()"
   ]
  },
  {
   "cell_type": "code",
   "execution_count": 92,
   "id": "e55b6273-5ef9-449c-aa74-3eb18102cac4",
   "metadata": {},
   "outputs": [
    {
     "data": {
      "text/plain": [
       "Mjob\n",
       "other       0.356962\n",
       "services    0.260759\n",
       "at_home     0.149367\n",
       "teacher     0.146835\n",
       "health      0.086076\n",
       "Name: proportion, dtype: float64"
      ]
     },
     "execution_count": 92,
     "metadata": {},
     "output_type": "execute_result"
    }
   ],
   "source": [
    "students_1.Mjob.value_counts(normalize=True)"
   ]
  },
  {
   "cell_type": "code",
   "execution_count": 94,
   "id": "763d4aa8-d8ec-4cc2-85e2-4018755d09e6",
   "metadata": {},
   "outputs": [
    {
     "data": {
      "image/png": "[encoded data removed]",
      "text/plain": [
       "<Figure size 640x480 with 1 Axes>"
      ]
     },
     "metadata": {},
     "output_type": "display_data"
    },
    {
     "data": {
      "text/plain": [
       "<Figure size 640x480 with 0 Axes>"
      ]
     },
     "metadata": {},
     "output_type": "display_data"
    }
   ],
   "source": [
    "sns.countplot(x= 'Mjob', data=students_1)\n",
    "plt.show()\n",
    "plt.clf()"
   ]
  },
  {
   "cell_type": "code",
   "execution_count": 96,
   "id": "bc811eaf-6c65-4ac5-9998-7e20a206d9cc",
   "metadata": {},
   "outputs": [
    {
     "data": {
      "text/plain": [
       "<Axes: ylabel='count'>"
      ]
     },
     "execution_count": 96,
     "metadata": {},
     "output_type": "execute_result"
    },
    {
     "data": {
      "image/png": "[encoded data removed]",
      "text/plain": [
       "<Figure size 640x480 with 1 Axes>"
      ]
     },
     "metadata": {},
     "output_type": "display_data"
    }
   ],
   "source": [
    "students_1.Mjob.value_counts().plot.pie()"
   ]
  },
  {
   "cell_type": "code",
   "execution_count": 106,
   "id": "31104ae8-a7d9-45c7-a9e0-292d4483b407",
   "metadata": {},
   "outputs": [
    {
     "data": {
      "text/html": [
       "<div>\n",
       "<style scoped>\n",
       "    .dataframe tbody tr th:only-of-type {\n",
       "        vertical-align: middle;\n",
       "    }\n",
       "\n",
       "    .dataframe tbody tr th {\n",
       "        vertical-align: top;\n",
       "    }\n",
       "\n",
       "    .dataframe thead th {\n",
       "        text-align: right;\n",
       "    }\n",
       "</style>\n",
       "<table border=\"1\" class=\"dataframe\">\n",
       "  <thead>\n",
       "    <tr style=\"text-align: right;\">\n",
       "      <th></th>\n",
       "      <th>address</th>\n",
       "      <th>absences</th>\n",
       "      <th>Mjob</th>\n",
       "      <th>Fjob</th>\n",
       "      <th>math_grade</th>\n",
       "    </tr>\n",
       "  </thead>\n",
       "  <tbody>\n",
       "    <tr>\n",
       "      <th>0</th>\n",
       "      <td>U</td>\n",
       "      <td>6</td>\n",
       "      <td>at_home</td>\n",
       "      <td>teacher</td>\n",
       "      <td>6</td>\n",
       "    </tr>\n",
       "    <tr>\n",
       "      <th>1</th>\n",
       "      <td>U</td>\n",
       "      <td>4</td>\n",
       "      <td>at_home</td>\n",
       "      <td>other</td>\n",
       "      <td>6</td>\n",
       "    </tr>\n",
       "    <tr>\n",
       "      <th>2</th>\n",
       "      <td>U</td>\n",
       "      <td>10</td>\n",
       "      <td>at_home</td>\n",
       "      <td>other</td>\n",
       "      <td>10</td>\n",
       "    </tr>\n",
       "    <tr>\n",
       "      <th>3</th>\n",
       "      <td>U</td>\n",
       "      <td>2</td>\n",
       "      <td>health</td>\n",
       "      <td>services</td>\n",
       "      <td>15</td>\n",
       "    </tr>\n",
       "    <tr>\n",
       "      <th>4</th>\n",
       "      <td>U</td>\n",
       "      <td>4</td>\n",
       "      <td>other</td>\n",
       "      <td>other</td>\n",
       "      <td>10</td>\n",
       "    </tr>\n",
       "  </tbody>\n",
       "</table>\n",
       "</div>"
      ],
      "text/plain": [
       "  address  absences     Mjob      Fjob  math_grade\n",
       "0       U         6  at_home   teacher           6\n",
       "1       U         4  at_home     other           6\n",
       "2       U        10  at_home     other          10\n",
       "3       U         2   health  services          15\n",
       "4       U         4    other     other          10"
      ]
     },
     "execution_count": 106,
     "metadata": {},
     "output_type": "execute_result"
    }
   ],
   "source": [
    "students_1.head()"
   ]
  },
  {
   "cell_type": "code",
   "execution_count": 110,
   "id": "c8dab23f-2e8f-4c6b-a379-0d75efede533",
   "metadata": {},
   "outputs": [
    {
     "data": {
      "text/plain": [
       "address\n",
       "U    307\n",
       "R     88\n",
       "Name: count, dtype: int64"
      ]
     },
     "execution_count": 110,
     "metadata": {},
     "output_type": "execute_result"
    }
   ],
   "source": [
    "students_1.address.value_counts()"
   ]
  },
  {
   "cell_type": "code",
   "execution_count": 131,
   "id": "6c79177f-3260-40c3-a395-226fe97b95a7",
   "metadata": {},
   "outputs": [
    {
     "data": {
      "text/plain": [
       "address\n",
       "U    0.777215\n",
       "R    0.222785\n",
       "Name: proportion, dtype: float64"
      ]
     },
     "execution_count": 131,
     "metadata": {},
     "output_type": "execute_result"
    }
   ],
   "source": [
    "students_1.address.value_counts(normalize=True)"
   ]
  },
  {
   "cell_type": "code",
   "execution_count": 125,
   "id": "0684f881-65f2-4851-8150-5dac768cd392",
   "metadata": {},
   "outputs": [
    {
     "ename": "NameError",
     "evalue": "name 'plot' is not defined",
     "output_type": "error",
     "traceback": [
      "\u001b[0;31m---------------------------------------------------------------------------\u001b[0m",
      "\u001b[0;31mNameError\u001b[0m                                 Traceback (most recent call last)",
      "Cell \u001b[0;32mIn[125], line 2\u001b[0m\n\u001b[1;32m      1\u001b[0m sns\u001b[38;5;241m.\u001b[39mcountplot(x\u001b[38;5;241m=\u001b[39m\u001b[38;5;124m'\u001b[39m\u001b[38;5;124maddress\u001b[39m\u001b[38;5;124m'\u001b[39m, data\u001b[38;5;241m=\u001b[39mstudents_1)\n\u001b[0;32m----> 2\u001b[0m plot\u001b[38;5;241m.\u001b[39mshow()\n\u001b[1;32m      3\u001b[0m plot\u001b[38;5;241m.\u001b[39mclf()\n",
      "\u001b[0;31mNameError\u001b[0m: name 'plot' is not defined"
     ]
    },
    {
     "data": {
      "image/png": "[encoded data removed]",
      "text/plain": [
       "<Figure size 640x480 with 1 Axes>"
      ]
     },
     "metadata": {},
     "output_type": "display_data"
    }
   ],
   "source": [
    "sns.countplot(x='address', data=students_1)\n",
    "plot.show()\n",
    "plot.clf()"
   ]
  },
  {
   "cell_type": "code",
   "execution_count": 129,
   "id": "7edfaed4-4c13-4001-a631-a2beca88a6c7",
   "metadata": {},
   "outputs": [
    {
     "data": {
      "text/plain": [
       "<Axes: ylabel='count'>"
      ]
     },
     "execution_count": 129,
     "metadata": {},
     "output_type": "execute_result"
    },
    {
     "data": {
      "image/png": "[encoded data removed]",
      "text/plain": [
       "<Figure size 640x480 with 1 Axes>"
      ]
     },
     "metadata": {},
     "output_type": "display_data"
    }
   ],
   "source": [
    "students_1.address.value_counts().plot.pie()"
   ]
  },
  {
   "cell_type": "code",
   "execution_count": 145,
   "id": "c9b6d5c0-945b-4b05-9eeb-7838d913ac59",
   "metadata": {},
   "outputs": [
    {
     "data": {
      "text/plain": [
       "count    395.000000\n",
       "mean       5.708861\n",
       "std        8.003096\n",
       "min        0.000000\n",
       "25%        0.000000\n",
       "50%        4.000000\n",
       "75%        8.000000\n",
       "max       75.000000\n",
       "Name: absences, dtype: float64"
      ]
     },
     "execution_count": 145,
     "metadata": {},
     "output_type": "execute_result"
    }
   ],
   "source": [
    "students_1.absences.describe()"
   ]
  },
  {
   "cell_type": "code",
   "execution_count": 147,
   "id": "6cc41361-ef79-4dc5-8d8b-80ea4765da87",
   "metadata": {},
   "outputs": [
    {
     "data": {
      "text/plain": [
       "5.708860759493671"
      ]
     },
     "execution_count": 147,
     "metadata": {},
     "output_type": "execute_result"
    }
   ],
   "source": [
    "students_1.absences.mean()"
   ]
  },
  {
   "cell_type": "code",
   "execution_count": 183,
   "id": "735d8585-8538-46ab-ba22-59a3908ba0be",
   "metadata": {},
   "outputs": [
    {
     "data": {
      "text/plain": [
       "8.003095687108178"
      ]
     },
     "execution_count": 183,
     "metadata": {},
     "output_type": "execute_result"
    }
   ],
   "source": [
    "students_1.absences.std()"
   ]
  },
  {
   "cell_type": "code",
   "execution_count": 151,
   "id": "f93fb8d3-325f-4049-85e9-32849c2ad5b7",
   "metadata": {},
   "outputs": [
    {
     "data": {
      "text/plain": [
       "4.0"
      ]
     },
     "execution_count": 151,
     "metadata": {},
     "output_type": "execute_result"
    }
   ],
   "source": [
    "students_1.absences.median()"
   ]
  },
  {
   "cell_type": "code",
   "execution_count": 159,
   "id": "51cec879-dd42-41bc-a8fe-1b46043378aa",
   "metadata": {},
   "outputs": [
    {
     "data": {
      "image/png": "[encoded data removed]",
      "text/plain": [
       "<Figure size 640x480 with 1 Axes>"
      ]
     },
     "metadata": {},
     "output_type": "display_data"
    },
    {
     "data": {
      "text/plain": [
       "<Figure size 640x480 with 0 Axes>"
      ]
     },
     "metadata": {},
     "output_type": "display_data"
    }
   ],
   "source": [
    "sns.histplot(x='absences', data=students_1)\n",
    "plt.show()\n",
    "plt.clf()"
   ]
  },
  {
   "cell_type": "code",
   "execution_count": 155,
   "id": "332bdd02-6a63-40b8-a0ab-b2b61a00f1cd",
   "metadata": {},
   "outputs": [
    {
     "data": {
      "image/png": "[encoded data removed]",
      "text/plain": [
       "<Figure size 640x480 with 1 Axes>"
      ]
     },
     "metadata": {},
     "output_type": "display_data"
    },
    {
     "data": {
      "text/plain": [
       "<Figure size 640x480 with 0 Axes>"
      ]
     },
     "metadata": {},
     "output_type": "display_data"
    }
   ],
   "source": [
    "sns.boxplot(x='absences', data=students_1)\n",
    "plt.show()\n",
    "plt.clf()"
   ]
  },
  {
   "cell_type": "code",
   "execution_count": 171,
   "id": "906db52c-1c18-4c21-bfae-b8485f52d729",
   "metadata": {},
   "outputs": [
    {
     "data": {
      "text/plain": [
       "0"
      ]
     },
     "execution_count": 171,
     "metadata": {},
     "output_type": "execute_result"
    }
   ],
   "source": [
    "students_1.absences.mode()[0]"
   ]
  },
  {
   "cell_type": "code",
   "execution_count": 185,
   "id": "72d51471-3c95-4b66-9178-16116b773450",
   "metadata": {},
   "outputs": [
    {
     "data": {
      "text/plain": [
       "-75"
      ]
     },
     "execution_count": 185,
     "metadata": {},
     "output_type": "execute_result"
    }
   ],
   "source": [
    "students_1.absences.min()-students_1.absences.max()"
   ]
  },
  {
   "cell_type": "code",
   "execution_count": 193,
   "id": "7f52bb82-f62d-48b5-99bd-c3a6fe746990",
   "metadata": {},
   "outputs": [
    {
     "data": {
      "text/plain": [
       "Fjob\n",
       "other       217\n",
       "services    111\n",
       "teacher      29\n",
       "at_home      20\n",
       "health       18\n",
       "Name: count, dtype: int64"
      ]
     },
     "execution_count": 193,
     "metadata": {},
     "output_type": "execute_result"
    }
   ],
   "source": [
    "students_1.Fjob.value_counts()"
   ]
  },
  {
   "cell_type": "code",
   "execution_count": 195,
   "id": "4495c354-5127-4d9d-bfcb-af05e2173cb8",
   "metadata": {},
   "outputs": [
    {
     "data": {
      "image/png": "[encoded data removed]",
      "text/plain": [
       "<Figure size 640x480 with 1 Axes>"
      ]
     },
     "metadata": {},
     "output_type": "display_data"
    },
    {
     "data": {
      "text/plain": [
       "<Figure size 640x480 with 0 Axes>"
      ]
     },
     "metadata": {},
     "output_type": "display_data"
    }
   ],
   "source": [
    "sns.countplot(x='Fjob', data=students_1)\n",
    "plt.show()\n",
    "plt.clf()"
   ]
  },
  {
   "cell_type": "code",
   "execution_count": 199,
   "id": "dda7b265-68cc-48f0-9a49-04f56809050d",
   "metadata": {},
   "outputs": [
    {
     "data": {
      "text/plain": [
       "Fjob\n",
       "other       0.549367\n",
       "services    0.281013\n",
       "teacher     0.073418\n",
       "at_home     0.050633\n",
       "health      0.045570\n",
       "Name: proportion, dtype: float64"
      ]
     },
     "execution_count": 199,
     "metadata": {},
     "output_type": "execute_result"
    }
   ],
   "source": [
    "students_1.Fjob.value_counts(normalize=True)"
   ]
  },
  {
   "cell_type": "code",
   "execution_count": null,
   "id": "679ccfc9-b5eb-413d-b839-4f25d11b10bc",
   "metadata": {},
   "outputs": [],
   "source": []
  },
  {
   "cell_type": "code",
   "execution_count": null,
   "id": "2a7402bd-ea1e-43c7-a433-a683d60f5d02",
   "metadata": {},
   "outputs": [],
   "source": []
  },
  {
   "cell_type": "code",
   "execution_count": null,
   "id": "183b46fb-6878-484c-adbc-2f169790aed8",
   "metadata": {},
   "outputs": [],
   "source": []
  },
  {
   "cell_type": "code",
   "execution_count": null,
   "id": "7ffb3e01-20b9-4250-8836-663544481ddf",
   "metadata": {},
   "outputs": [],
   "source": []
  }
 ],
 "metadata": {
  "kernelspec": {
   "display_name": "Python 3 (ipykernel)",
   "language": "python",
   "name": "python3"
  },
  "language_info": {
   "codemirror_mode": {
    "name": "ipython",
    "version": 3
   },
   "file_extension": ".py",
   "mimetype": "text/x-python",
   "name": "python",
   "nbconvert_exporter": "python",
   "pygments_lexer": "ipython3",
   "version": "3.12.4"
  }
 },
 "nbformat": 4,
 "nbformat_minor": 5
}
