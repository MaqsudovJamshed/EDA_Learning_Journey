





import requests

url = "https://raw.githubusercontent.com/Codecademy/datasets/master/streeteasy/streeteasy.csv"  # Replace with the file URL
response = requests.get(url)

# Save the file in the current working directory
with open("yourfile.csv", "wb") as f:
    f.write(response.content)


import os
print(os.getcwd())





import pandas as pd

# Import dataset
rentals = pd.read_csv('yourfile.csv')

# Preview first 5 rows
print(rentals.head())





rental = rentals[['rent','size_sqft','borough']]
rental.head()





# Display summary statistics for all columns

rental.describe(include='all')















