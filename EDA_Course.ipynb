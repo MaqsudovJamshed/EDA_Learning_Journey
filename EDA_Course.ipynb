{
 "cells": [
  {
   "cell_type": "markdown",
   "id": "ee2acfe2-aba2-463e-8d5d-575dbed34427",
   "metadata": {},
   "source": [
    "This is Data Summaries section. \n",
    "\n",
    "1/8 of Codecademy course on EDA with Python\n",
    "\n",
    "## Introduction\n",
    "\n",
    "Performing some initial investigations of the data through **exploratory data analysis (EDA)**\n",
    "to get a better sense of what you will be working with.\n",
    "\n",
    "Basic **summary statistics** and **visualizations** are important components of EDA as they allow us to \n",
    "condense a large amount of information into a small set of numbers or graphics that can be easily \n",
    "interpreted.\n",
    "\n",
    "**Univariate summaries** - explore each variable separately.\n",
    "\n",
    "This is useful for answering questions about each individual feature. Variables can typically be classified as quantitative (i.e., numeric) or categorical (i.e., discrete). Depending on its type, we may want to choose different summary metrics and visuals to use.\n",
    "\n",
    "This is useful for answering questions about each individual feature.\n"
   ]
  },
  {
   "cell_type": "markdown",
   "id": "236314ac-7b53-4b40-a5ae-9179cbfbe260",
   "metadata": {},
   "source": [
    "Here with the **requests library** I am fetching the dataset url to my Jupyter Lab without saving the file to my drive or my desktop."
   ]
  },
  {
   "cell_type": "code",
   "execution_count": 6,
   "id": "6fb71988-e3ed-402a-beec-3ef77cc9d3a1",
   "metadata": {},
   "outputs": [],
   "source": [
    "import requests\n",
    "\n",
    "url = \"https://raw.githubusercontent.com/Codecademy/datasets/master/streeteasy/streeteasy.csv\"  # Replace with the file URL\n",
    "response = requests.get(url)\n",
    "\n",
    "# Save the file in the current working directory\n",
    "with open(\"yourfile.csv\", \"wb\") as f:\n",
    "    f.write(response.content)"
   ]
  },
  {
   "cell_type": "code",
   "execution_count": 8,
   "id": "7683a312-0720-4009-bb99-a33bd3976add",
   "metadata": {},
   "outputs": [
    {
     "name": "stdout",
     "output_type": "stream",
     "text": [
      "/Users/jamshedmaqsudov/Desktop/EDA_Learning_Journey\n"
     ]
    }
   ],
   "source": [
    "import os\n",
    "print(os.getcwd())"
   ]
  },
  {
   "cell_type": "markdown",
   "id": "e8f2e301-1c2d-4502-b085-87d5c9f57b38",
   "metadata": {},
   "source": [
    "### We import the **pandas library** and open our csv file "
   ]
  },
  {
   "cell_type": "code",
   "execution_count": 10,
   "id": "2ba9ead6-479e-47db-a077-f95f9e715e66",
   "metadata": {},
   "outputs": [
    {
     "name": "stdout",
     "output_type": "stream",
     "text": [
      "   rental_id  building_id   rent  bedrooms  bathrooms  size_sqft  \\\n",
      "0       1545     44518357   2550       0.0          1        480   \n",
      "1       2472     94441623  11500       2.0          2       2000   \n",
      "2      10234     87632265   3000       3.0          1       1000   \n",
      "3       2919     76909719   4500       1.0          1        916   \n",
      "4       2790     92953520   4795       1.0          1        975   \n",
      "\n",
      "   min_to_subway  floor  building_age_yrs  no_fee  has_roofdeck  \\\n",
      "0              9    2.0                17       1             1   \n",
      "1              4    1.0                96       0             0   \n",
      "2              4    1.0               106       0             0   \n",
      "3              2   51.0                29       0             1   \n",
      "4              3    8.0                31       0             0   \n",
      "\n",
      "   has_washer_dryer  has_doorman  has_elevator  has_dishwasher  has_patio  \\\n",
      "0                 0            0             1               1          0   \n",
      "1                 0            0             0               0          0   \n",
      "2                 0            0             0               0          0   \n",
      "3                 0            1             1               1          0   \n",
      "4                 0            1             1               1          0   \n",
      "\n",
      "   has_gym       neighborhood            submarket    borough  \n",
      "0        1    Upper East Side  All Upper East Side  Manhattan  \n",
      "1        0  Greenwich Village         All Downtown  Manhattan  \n",
      "2        0            Astoria     Northwest Queens     Queens  \n",
      "3        0            Midtown          All Midtown  Manhattan  \n",
      "4        1  Greenwich Village         All Downtown  Manhattan  \n"
     ]
    }
   ],
   "source": [
    "import pandas as pd\n",
    "\n",
    "# Import dataset\n",
    "rentals = pd.read_csv('yourfile.csv')\n",
    "\n",
    "# Preview first 5 rows\n",
    "print(rentals.head())"
   ]
  },
  {
   "cell_type": "markdown",
   "id": "be3b3b1f-4c17-4214-9b6d-fca2bbaf4b75",
   "metadata": {},
   "source": [
    "#### To work with our dataset as it is indicated in the codecademy lesson we only need these three columns and get them in a new variable"
   ]
  },
  {
   "cell_type": "code",
   "execution_count": 22,
   "id": "c760e649-9b72-4b96-9f09-967493a3ba39",
   "metadata": {},
   "outputs": [
    {
     "data": {
      "text/html": [
       "<div>\n",
       "<style scoped>\n",
       "    .dataframe tbody tr th:only-of-type {\n",
       "        vertical-align: middle;\n",
       "    }\n",
       "\n",
       "    .dataframe tbody tr th {\n",
       "        vertical-align: top;\n",
       "    }\n",
       "\n",
       "    .dataframe thead th {\n",
       "        text-align: right;\n",
       "    }\n",
       "</style>\n",
       "<table border=\"1\" class=\"dataframe\">\n",
       "  <thead>\n",
       "    <tr style=\"text-align: right;\">\n",
       "      <th></th>\n",
       "      <th>rent</th>\n",
       "      <th>size_sqft</th>\n",
       "      <th>borough</th>\n",
       "    </tr>\n",
       "  </thead>\n",
       "  <tbody>\n",
       "    <tr>\n",
       "      <th>0</th>\n",
       "      <td>2550</td>\n",
       "      <td>480</td>\n",
       "      <td>Manhattan</td>\n",
       "    </tr>\n",
       "    <tr>\n",
       "      <th>1</th>\n",
       "      <td>11500</td>\n",
       "      <td>2000</td>\n",
       "      <td>Manhattan</td>\n",
       "    </tr>\n",
       "    <tr>\n",
       "      <th>2</th>\n",
       "      <td>3000</td>\n",
       "      <td>1000</td>\n",
       "      <td>Queens</td>\n",
       "    </tr>\n",
       "    <tr>\n",
       "      <th>3</th>\n",
       "      <td>4500</td>\n",
       "      <td>916</td>\n",
       "      <td>Manhattan</td>\n",
       "    </tr>\n",
       "    <tr>\n",
       "      <th>4</th>\n",
       "      <td>4795</td>\n",
       "      <td>975</td>\n",
       "      <td>Manhattan</td>\n",
       "    </tr>\n",
       "  </tbody>\n",
       "</table>\n",
       "</div>"
      ],
      "text/plain": [
       "    rent  size_sqft    borough\n",
       "0   2550        480  Manhattan\n",
       "1  11500       2000  Manhattan\n",
       "2   3000       1000     Queens\n",
       "3   4500        916  Manhattan\n",
       "4   4795        975  Manhattan"
      ]
     },
     "execution_count": 22,
     "metadata": {},
     "output_type": "execute_result"
    }
   ],
   "source": [
    "rental = rentals[['rent','size_sqft','borough']]\n",
    "rental.head()"
   ]
  },
  {
   "cell_type": "markdown",
   "id": "2774cc46-66c8-49dd-9811-ec44f1b2706a",
   "metadata": {},
   "source": [
    "We display the **summary statistics** for all the columns. \n",
    "\n",
    "In EDA we display it with **describe() method in Pandas** to \n",
    "condense the large amount of information into small set of numbers\n",
    "such as mean, std, min, max and etc..\n",
    "\n",
    "This is a great way to get an **overview** of all the variables in a dataset."
   ]
  },
  {
   "cell_type": "code",
   "execution_count": 24,
   "id": "4d580288-67df-4944-8ded-4ac17bd0e6c5",
   "metadata": {},
   "outputs": [
    {
     "data": {
      "text/html": [
       "<div>\n",
       "<style scoped>\n",
       "    .dataframe tbody tr th:only-of-type {\n",
       "        vertical-align: middle;\n",
       "    }\n",
       "\n",
       "    .dataframe tbody tr th {\n",
       "        vertical-align: top;\n",
       "    }\n",
       "\n",
       "    .dataframe thead th {\n",
       "        text-align: right;\n",
       "    }\n",
       "</style>\n",
       "<table border=\"1\" class=\"dataframe\">\n",
       "  <thead>\n",
       "    <tr style=\"text-align: right;\">\n",
       "      <th></th>\n",
       "      <th>rent</th>\n",
       "      <th>size_sqft</th>\n",
       "      <th>borough</th>\n",
       "    </tr>\n",
       "  </thead>\n",
       "  <tbody>\n",
       "    <tr>\n",
       "      <th>count</th>\n",
       "      <td>5000.000000</td>\n",
       "      <td>5000.000000</td>\n",
       "      <td>5000</td>\n",
       "    </tr>\n",
       "    <tr>\n",
       "      <th>unique</th>\n",
       "      <td>NaN</td>\n",
       "      <td>NaN</td>\n",
       "      <td>3</td>\n",
       "    </tr>\n",
       "    <tr>\n",
       "      <th>top</th>\n",
       "      <td>NaN</td>\n",
       "      <td>NaN</td>\n",
       "      <td>Manhattan</td>\n",
       "    </tr>\n",
       "    <tr>\n",
       "      <th>freq</th>\n",
       "      <td>NaN</td>\n",
       "      <td>NaN</td>\n",
       "      <td>3539</td>\n",
       "    </tr>\n",
       "    <tr>\n",
       "      <th>mean</th>\n",
       "      <td>4536.920800</td>\n",
       "      <td>920.101400</td>\n",
       "      <td>NaN</td>\n",
       "    </tr>\n",
       "    <tr>\n",
       "      <th>std</th>\n",
       "      <td>2929.838953</td>\n",
       "      <td>440.150464</td>\n",
       "      <td>NaN</td>\n",
       "    </tr>\n",
       "    <tr>\n",
       "      <th>min</th>\n",
       "      <td>1250.000000</td>\n",
       "      <td>250.000000</td>\n",
       "      <td>NaN</td>\n",
       "    </tr>\n",
       "    <tr>\n",
       "      <th>25%</th>\n",
       "      <td>2750.000000</td>\n",
       "      <td>633.000000</td>\n",
       "      <td>NaN</td>\n",
       "    </tr>\n",
       "    <tr>\n",
       "      <th>50%</th>\n",
       "      <td>3600.000000</td>\n",
       "      <td>800.000000</td>\n",
       "      <td>NaN</td>\n",
       "    </tr>\n",
       "    <tr>\n",
       "      <th>75%</th>\n",
       "      <td>5200.000000</td>\n",
       "      <td>1094.000000</td>\n",
       "      <td>NaN</td>\n",
       "    </tr>\n",
       "    <tr>\n",
       "      <th>max</th>\n",
       "      <td>20000.000000</td>\n",
       "      <td>4800.000000</td>\n",
       "      <td>NaN</td>\n",
       "    </tr>\n",
       "  </tbody>\n",
       "</table>\n",
       "</div>"
      ],
      "text/plain": [
       "                rent    size_sqft    borough\n",
       "count    5000.000000  5000.000000       5000\n",
       "unique           NaN          NaN          3\n",
       "top              NaN          NaN  Manhattan\n",
       "freq             NaN          NaN       3539\n",
       "mean     4536.920800   920.101400        NaN\n",
       "std      2929.838953   440.150464        NaN\n",
       "min      1250.000000   250.000000        NaN\n",
       "25%      2750.000000   633.000000        NaN\n",
       "50%      3600.000000   800.000000        NaN\n",
       "75%      5200.000000  1094.000000        NaN\n",
       "max     20000.000000  4800.000000        NaN"
      ]
     },
     "execution_count": 24,
     "metadata": {},
     "output_type": "execute_result"
    }
   ],
   "source": [
    "# Display summary statistics for all columns\n",
    "\n",
    "rental.describe(include='all')"
   ]
  },
  {
   "cell_type": "markdown",
   "id": "9c89f616-859c-498a-aade-cb0a6ff15ae0",
   "metadata": {},
   "source": [
    "#### Continue tomorrow: 16.12.2024"
   ]
  },
  {
   "cell_type": "code",
   "execution_count": null,
   "id": "f190113b-4f86-4ad3-9e4b-c1b74df68e0d",
   "metadata": {},
   "outputs": [],
   "source": []
  },
  {
   "cell_type": "code",
   "execution_count": null,
   "id": "3bbda28d-c26d-4523-a0f0-e87c2379ab9a",
   "metadata": {},
   "outputs": [],
   "source": []
  },
  {
   "cell_type": "code",
   "execution_count": null,
   "id": "6064bbbe-8c32-41b8-bc36-4faba0b89ea5",
   "metadata": {},
   "outputs": [],
   "source": []
  },
  {
   "cell_type": "code",
   "execution_count": null,
   "id": "2271d6e5-a300-4c10-b052-065dcbbdb032",
   "metadata": {},
   "outputs": [],
   "source": []
  }
 ],
 "metadata": {
  "kernelspec": {
   "display_name": "Python 3 (ipykernel)",
   "language": "python",
   "name": "python3"
  },
  "language_info": {
   "codemirror_mode": {
    "name": "ipython",
    "version": 3
   },
   "file_extension": ".py",
   "mimetype": "text/x-python",
   "name": "python",
   "nbconvert_exporter": "python",
   "pygments_lexer": "ipython3",
   "version": "3.12.4"
  }
 },
 "nbformat": 4,
 "nbformat_minor": 5
}
